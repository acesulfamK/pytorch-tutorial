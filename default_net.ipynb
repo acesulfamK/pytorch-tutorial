{
  "nbformat": 4,
  "nbformat_minor": 0,
  "metadata": {
    "colab": {
      "provenance": []
    },
    "kernelspec": {
      "name": "python3",
      "display_name": "Python 3"
    },
    "language_info": {
      "name": "python"
    }
  },
  "cells": [
    {
      "cell_type": "code",
      "execution_count": 126,
      "metadata": {
        "id": "JBtb3A1VJBYc"
      },
      "outputs": [],
      "source": [
        "import torch\n",
        "import torch.nn as nn\n",
        "import torch.nn.functional as F\n",
        "from torch.utils.data import Dataset, DataLoader, random_split, TensorDataset\n"
      ]
    },
    {
      "cell_type": "code",
      "source": [
        "class Net(nn.Module):\n",
        "  def __init__(self):\n",
        "    super().__init__()\n",
        "    self.fc1 = nn.Linear(1,1)\n",
        "  def forward(self,x):\n",
        "    x = self.fc1(x)\n",
        "    return x\n",
        "\n"
      ],
      "metadata": {
        "id": "1kF7A1SgKnTK"
      },
      "execution_count": 127,
      "outputs": []
    },
    {
      "cell_type": "code",
      "source": [
        "with torch.no_grad():\n",
        "  input = torch.tensor([30.])\n",
        "  output = mynet(input)\n",
        "  print(output)"
      ],
      "metadata": {
        "colab": {
          "base_uri": "https://localhost:8080/"
        },
        "id": "pM8XhRAzbZGV",
        "outputId": "da8ebd78-3439-4a7c-c926-13c356fc21b8"
      },
      "execution_count": 128,
      "outputs": [
        {
          "output_type": "stream",
          "name": "stdout",
          "text": [
            "tensor([30.7426])\n"
          ]
        }
      ]
    },
    {
      "cell_type": "code",
      "source": [
        "class MyDataset(Dataset):\n",
        "  def __init__(self, x_data, y_data):\n",
        "    self.x_data = x_data\n",
        "    self.y_data = y_data\n",
        "\n",
        "  def __len__(self):\n",
        "    return len(self.x_data)\n",
        "\n",
        "  def __getitem__(self,idx):\n",
        "    return self.x_data[idx],self.y_data[idx]"
      ],
      "metadata": {
        "id": "ssn7or8eRnMN"
      },
      "execution_count": 129,
      "outputs": []
    },
    {
      "cell_type": "code",
      "source": [
        "x_data = torch.tensor(range(100)).float()\n",
        "y_data = torch.tensor(range(100)).float()\n",
        "\n",
        "dataset = MyDataset(x_data, y_data)\n",
        "train_dataset, test_dataset = random_split(dataset, [80,20])\n",
        "\n",
        "trainloader = DataLoader(train_dataset, batch_size = 1, shuffle = True)\n",
        "testloader = DataLoader(test_dataset, batch_size = 1, shuffle = True)"
      ],
      "metadata": {
        "id": "gc6qAP24SO7m"
      },
      "execution_count": 148,
      "outputs": []
    },
    {
      "cell_type": "code",
      "source": [
        "# Input epoch num\n",
        "num_epoch = 100\n",
        "\n",
        "mynet = Net()\n",
        "\n",
        "criterion = nn.MSELoss()\n",
        "optimizer = torch.optim.SGD(mynet.parameters(), lr = 0.0001)\n",
        "\n",
        "counter = 0\n",
        "for epoch in range(100):\n",
        "  for inputs, targets in trainloader:\n",
        "\n",
        "    optimizer.zero_grad()\n",
        "    outputs = mynet(inputs)\n",
        "    loss = criterion(outputs, targets)\n",
        "    loss.backward()\n",
        "    optimizer.step()\n",
        "  if counter %10 == 0:\n",
        "    print(\"epoch = \",epoch,\" , loss = \",loss)\n",
        "  counter += 1"
      ],
      "metadata": {
        "colab": {
          "base_uri": "https://localhost:8080/"
        },
        "id": "ulbgqjMPQwUU",
        "outputId": "74a8f5da-91dd-41bf-be83-41a64b415019"
      },
      "execution_count": 149,
      "outputs": [
        {
          "output_type": "stream",
          "name": "stdout",
          "text": [
            "epoch =  0  , loss =  tensor(0.0814, grad_fn=<MseLossBackward0>)\n",
            "epoch =  10  , loss =  tensor(0.0026, grad_fn=<MseLossBackward0>)\n",
            "epoch =  20  , loss =  tensor(8.5384e-06, grad_fn=<MseLossBackward0>)\n",
            "epoch =  30  , loss =  tensor(0.0378, grad_fn=<MseLossBackward0>)\n",
            "epoch =  40  , loss =  tensor(0.0140, grad_fn=<MseLossBackward0>)\n",
            "epoch =  50  , loss =  tensor(0.0227, grad_fn=<MseLossBackward0>)\n",
            "epoch =  60  , loss =  tensor(0.0326, grad_fn=<MseLossBackward0>)\n",
            "epoch =  70  , loss =  tensor(0.0471, grad_fn=<MseLossBackward0>)\n",
            "epoch =  80  , loss =  tensor(0.0295, grad_fn=<MseLossBackward0>)\n",
            "epoch =  90  , loss =  tensor(0.0049, grad_fn=<MseLossBackward0>)\n"
          ]
        }
      ]
    },
    {
      "cell_type": "code",
      "source": [
        "mynet.eval()\n",
        "\n",
        "correct = 0\n",
        "total = 0\n",
        "\n",
        "with torch.no_grad():\n",
        "  for x, y in testloader:\n",
        "    pred_y = mynet(x)\n",
        "    print(\"(\"+str(x)+\",\"+str(y)+\") : \"+str(pred_y))\n",
        "\n",
        "\n"
      ],
      "metadata": {
        "colab": {
          "base_uri": "https://localhost:8080/"
        },
        "id": "4_xihnRGVZPL",
        "outputId": "e3b4514b-a420-45d8-bb37-878ce9550868"
      },
      "execution_count": 150,
      "outputs": [
        {
          "output_type": "stream",
          "name": "stdout",
          "text": [
            "(tensor([59.]),tensor([59.])) : tensor([59.0099])\n",
            "(tensor([38.]),tensor([38.])) : tensor([38.0778])\n",
            "(tensor([92.]),tensor([92.])) : tensor([91.9030])\n",
            "(tensor([12.]),tensor([12.])) : tensor([12.1620])\n",
            "(tensor([18.]),tensor([18.])) : tensor([18.1426])\n",
            "(tensor([72.]),tensor([72.])) : tensor([71.9678])\n",
            "(tensor([40.]),tensor([40.])) : tensor([40.0713])\n",
            "(tensor([88.]),tensor([88.])) : tensor([87.9160])\n",
            "(tensor([79.]),tensor([79.])) : tensor([78.9451])\n",
            "(tensor([30.]),tensor([30.])) : tensor([30.1037])\n",
            "(tensor([0.]),tensor([0.])) : tensor([0.2008])\n",
            "(tensor([28.]),tensor([28.])) : tensor([28.1102])\n",
            "(tensor([81.]),tensor([81.])) : tensor([80.9386])\n",
            "(tensor([52.]),tensor([52.])) : tensor([52.0325])\n",
            "(tensor([76.]),tensor([76.])) : tensor([75.9548])\n",
            "(tensor([77.]),tensor([77.])) : tensor([76.9516])\n",
            "(tensor([80.]),tensor([80.])) : tensor([79.9419])\n",
            "(tensor([86.]),tensor([86.])) : tensor([85.9225])\n",
            "(tensor([27.]),tensor([27.])) : tensor([27.1134])\n",
            "(tensor([16.]),tensor([16.])) : tensor([16.1490])\n"
          ]
        }
      ]
    },
    {
      "cell_type": "code",
      "source": [
        "mynet.eval()\n",
        "with torch.no_grad():\n",
        "  print(mynet(torch.tensor([11.4])))"
      ],
      "metadata": {
        "colab": {
          "base_uri": "https://localhost:8080/"
        },
        "id": "0mjHXQkYgPZu",
        "outputId": "7f11d474-86f3-4800-adc6-0f4c04db6045"
      },
      "execution_count": 152,
      "outputs": [
        {
          "output_type": "stream",
          "name": "stdout",
          "text": [
            "tensor([11.5639])\n"
          ]
        }
      ]
    }
  ]
}