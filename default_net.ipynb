{
  "nbformat": 4,
  "nbformat_minor": 0,
  "metadata": {
    "colab": {
      "provenance": []
    },
    "kernelspec": {
      "name": "python3",
      "display_name": "Python 3"
    },
    "language_info": {
      "name": "python"
    }
  },
  "cells": [
    {
      "cell_type": "code",
      "execution_count": 21,
      "metadata": {
        "id": "JBtb3A1VJBYc"
      },
      "outputs": [],
      "source": [
        "import torch\n",
        "import torch.nn as nn\n",
        "import torch.nn.functional as F\n",
        "from torch.utils.data import Dataset, DataLoader, random_split, TensorDataset\n",
        "import matplotlib.pyplot as plt\n"
      ]
    },
    {
      "cell_type": "code",
      "source": [
        "class Net(nn.Module):\n",
        "  def __init__(self):\n",
        "    super().__init__()\n",
        "    self.fc1 = nn.Linear(1,1)\n",
        "  def forward(self,x):\n",
        "    x = self.fc1(x)\n",
        "    return x\n",
        "\n"
      ],
      "metadata": {
        "id": "1kF7A1SgKnTK"
      },
      "execution_count": 7,
      "outputs": []
    },
    {
      "cell_type": "code",
      "source": [
        "class MyDataset(Dataset):\n",
        "  def __init__(self, x_data, y_data):\n",
        "    self.x_data = x_data\n",
        "    self.y_data = y_data\n",
        "\n",
        "  def __len__(self):\n",
        "    return len(self.x_data)\n",
        "\n",
        "  def __getitem__(self,idx):\n",
        "    return self.x_data[idx],self.y_data[idx]"
      ],
      "metadata": {
        "id": "ssn7or8eRnMN"
      },
      "execution_count": 8,
      "outputs": []
    },
    {
      "cell_type": "code",
      "source": [
        "x_data = torch.tensor(range(100)).float()\n",
        "y_data = torch.tensor(range(100)).float()\n",
        "\n",
        "dataset = MyDataset(x_data, y_data)\n",
        "train_dataset, test_dataset = random_split(dataset, [80,20])\n",
        "\n",
        "trainloader = DataLoader(train_dataset, batch_size = 1, shuffle = True)\n",
        "testloader = DataLoader(test_dataset, batch_size = 1, shuffle = True)"
      ],
      "metadata": {
        "id": "gc6qAP24SO7m"
      },
      "execution_count": 9,
      "outputs": []
    },
    {
      "cell_type": "code",
      "source": [
        "# Input epoch num\n",
        "num_epoch = 100\n",
        "\n",
        "mynet = Net()\n",
        "\n",
        "criterion = nn.MSELoss()\n",
        "optimizer = torch.optim.SGD(mynet.parameters(), lr = 0.0001)\n",
        "\n",
        "counter = 0\n",
        "for epoch in range(100):\n",
        "  for inputs, targets in trainloader:\n",
        "\n",
        "    optimizer.zero_grad()\n",
        "    outputs = mynet(inputs)\n",
        "    loss = criterion(outputs, targets)\n",
        "    loss.backward()\n",
        "    optimizer.step()\n",
        "  if counter %10 == 0:\n",
        "    print(\"epoch = \",epoch,\" , loss = \",loss)\n",
        "  counter += 1"
      ],
      "metadata": {
        "colab": {
          "base_uri": "https://localhost:8080/",
          "height": 0
        },
        "id": "ulbgqjMPQwUU",
        "outputId": "8132af30-f831-40ae-baed-a38d88df5dc0"
      },
      "execution_count": 10,
      "outputs": [
        {
          "output_type": "stream",
          "name": "stdout",
          "text": [
            "epoch =  0  , loss =  tensor(0.0156, grad_fn=<MseLossBackward0>)\n",
            "epoch =  10  , loss =  tensor(0.0042, grad_fn=<MseLossBackward0>)\n",
            "epoch =  20  , loss =  tensor(0.1276, grad_fn=<MseLossBackward0>)\n",
            "epoch =  30  , loss =  tensor(0.1095, grad_fn=<MseLossBackward0>)\n",
            "epoch =  40  , loss =  tensor(0.2089, grad_fn=<MseLossBackward0>)\n",
            "epoch =  50  , loss =  tensor(0.0462, grad_fn=<MseLossBackward0>)\n",
            "epoch =  60  , loss =  tensor(0.0260, grad_fn=<MseLossBackward0>)\n",
            "epoch =  70  , loss =  tensor(0.0301, grad_fn=<MseLossBackward0>)\n",
            "epoch =  80  , loss =  tensor(0.1011, grad_fn=<MseLossBackward0>)\n",
            "epoch =  90  , loss =  tensor(0.0083, grad_fn=<MseLossBackward0>)\n"
          ]
        }
      ]
    },
    {
      "cell_type": "code",
      "source": [
        "mynet.eval()\n",
        "\n",
        "correct = 0\n",
        "total = 0\n",
        "\n",
        "\n",
        "with torch.no_grad():\n",
        "  for x, y in testloader:\n",
        "    pred_y = mynet(x)\n",
        "    print(\"(\"+str(x)+\",\"+str(y)+\") : \"+str(pred_y))\n",
        "\n",
        "\n"
      ],
      "metadata": {
        "colab": {
          "base_uri": "https://localhost:8080/",
          "height": 0
        },
        "id": "4_xihnRGVZPL",
        "outputId": "13ef9e01-b1b4-4acb-94eb-91fb5882bdf7"
      },
      "execution_count": 11,
      "outputs": [
        {
          "output_type": "stream",
          "name": "stdout",
          "text": [
            "(tensor([73.]),tensor([73.])) : tensor([73.1443])\n",
            "(tensor([86.]),tensor([86.])) : tensor([86.2359])\n",
            "(tensor([66.]),tensor([66.])) : tensor([66.0949])\n",
            "(tensor([64.]),tensor([64.])) : tensor([64.0808])\n",
            "(tensor([71.]),tensor([71.])) : tensor([71.1302])\n",
            "(tensor([2.]),tensor([2.])) : tensor([1.6438])\n",
            "(tensor([32.]),tensor([32.])) : tensor([31.8552])\n",
            "(tensor([40.]),tensor([40.])) : tensor([39.9116])\n",
            "(tensor([55.]),tensor([55.])) : tensor([55.0174])\n",
            "(tensor([85.]),tensor([85.])) : tensor([85.2289])\n",
            "(tensor([80.]),tensor([80.])) : tensor([80.1936])\n",
            "(tensor([89.]),tensor([89.])) : tensor([89.2571])\n",
            "(tensor([19.]),tensor([19.])) : tensor([18.7636])\n",
            "(tensor([3.]),tensor([3.])) : tensor([2.6508])\n",
            "(tensor([47.]),tensor([47.])) : tensor([46.9610])\n",
            "(tensor([43.]),tensor([43.])) : tensor([42.9328])\n",
            "(tensor([62.]),tensor([62.])) : tensor([62.0667])\n",
            "(tensor([11.]),tensor([11.])) : tensor([10.7072])\n",
            "(tensor([60.]),tensor([60.])) : tensor([60.0526])\n",
            "(tensor([82.]),tensor([82.])) : tensor([82.2077])\n"
          ]
        }
      ]
    },
    {
      "cell_type": "code",
      "source": [
        "mynet.eval()\n",
        "with torch.no_grad():\n",
        "  print(mynet(torch.tensor([11.4])))"
      ],
      "metadata": {
        "colab": {
          "base_uri": "https://localhost:8080/",
          "height": 0
        },
        "id": "0mjHXQkYgPZu",
        "outputId": "d7c58b91-33d1-42c1-a39a-bfbb305759b7"
      },
      "execution_count": 12,
      "outputs": [
        {
          "output_type": "stream",
          "name": "stdout",
          "text": [
            "tensor([11.1100])\n"
          ]
        }
      ]
    },
    {
      "cell_type": "markdown",
      "source": [
        "# Use model"
      ],
      "metadata": {
        "id": "AsSQqotDE3Vj"
      }
    },
    {
      "cell_type": "markdown",
      "source": [],
      "metadata": {
        "id": "MrWHNPmAE5Fc"
      }
    },
    {
      "cell_type": "code",
      "source": [
        "x = torch.tensor(range(100))\n",
        "x = x.float()\n",
        "\n",
        "dataset = TensorDataset(x)\n",
        "dataloader = DataLoader(dataset,batch_size = 1)\n",
        "\n",
        "x = []\n",
        "y = []\n",
        "mynet.eval()\n",
        "with torch.no_grad():\n",
        "  for input in dataloader:\n",
        "    pred_y = mynet(input[0])\n",
        "    x.append(float(input[0]))\n",
        "    y.append(float(pred_y[0]))"
      ],
      "metadata": {
        "id": "SjcblWdxkSdM"
      },
      "execution_count": 20,
      "outputs": []
    },
    {
      "cell_type": "code",
      "source": [
        "plt.plot(x,y)"
      ],
      "metadata": {
        "colab": {
          "base_uri": "https://localhost:8080/",
          "height": 448
        },
        "id": "I6YRQq3UDxVn",
        "outputId": "3a1aadd9-8238-43d6-d508-a5d46ccd385e"
      },
      "execution_count": 22,
      "outputs": [
        {
          "output_type": "execute_result",
          "data": {
            "text/plain": [
              "[<matplotlib.lines.Line2D at 0x7f48e4a09840>]"
            ]
          },
          "metadata": {},
          "execution_count": 22
        },
        {
          "output_type": "display_data",
          "data": {
            "text/plain": [
              "<Figure size 640x480 with 1 Axes>"
            ],
            "image/png": "[encoded data removed]"
          },
          "metadata": {}
        }
      ]
    }
  ]
}